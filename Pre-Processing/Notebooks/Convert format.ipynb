{
 "cells": [
  {
   "cell_type": "code",
   "execution_count": 2,
   "metadata": {},
   "outputs": [],
   "source": [
    "# First we convert the csv format\n"
   ]
  },
  {
   "cell_type": "code",
   "execution_count": 3,
   "metadata": {},
   "outputs": [
    {
     "data": {
      "text/plain": [
       "True"
      ]
     },
     "execution_count": 3,
     "metadata": {},
     "output_type": "execute_result"
    }
   ],
   "source": [
    "from os import path, makedirs\n",
    "import pandas as pd\n",
    "\n",
    "def convert_vott_csv_to_yolo(vott_df,labeldict,path='',target_name='data_all_train.txt'):\n",
    "    \n",
    "    #Encode labels according to labeldict \n",
    "    vott_df['code']=vott_df['label'].apply(lambda x: labeldict[x])\n",
    "    #Round float to ints\n",
    "    for col in vott_df[['xmin', 'ymin', 'xmax', 'ymax']]:\n",
    "        vott_df[col]=(vott_df[col]).apply(lambda x: round(x))\n",
    "        \n",
    "    #Crete Yolo Text file\n",
    "    last_image = ''\n",
    "    txt_file = ''\n",
    "\n",
    "    for index,row in vott_df.iterrows():\n",
    "        if not last_image == row['image']:\n",
    "            txt_file +='\\n'+path+row['image'] + ' '\n",
    "            txt_file += ','.join([str(x) for x in (row[['xmin', 'ymin', 'xmax', 'ymax','code']].tolist())])\n",
    "        else:\n",
    "            txt_file += ' '\n",
    "            txt_file += ','.join([str(x) for x in (row[['xmin', 'ymin', 'xmax', 'ymax','code']].tolist())])\n",
    "        last_image = row['image']\n",
    "    file = open(target_name,\"w\") \n",
    "    file.write(txt_file[1:]) \n",
    "    file.close() \n",
    "    return True\n",
    "# labeldict = dict(zip(['window', 'door', 'opening', 'garage'],[0,1,2,3]))\n",
    "labeldict = dict(zip(['house'],[0,]))\n",
    "multi_df = pd.read_csv('C:/Users/Anton/Documents/Insight/eq/EQ_new/Train_Housing_detector/2/vott-csv-export/Housing_cropping-export.csv')\n",
    "multi_df.drop_duplicates(subset=None, keep='first', inplace=True)\n",
    "convert_vott_csv_to_yolo(multi_df,labeldict,path = '/home/ubuntu/logohunter/data/houses/',target_name='data_train.txt')\n",
    "\n",
    "labeldict = \n",
    "windows_df.drop_duplicates(subset=None, keep='first', inplace=True)\n",
    "convert_vott_csv_to_yolo(windows_df,labeldict,path = '/home/ubuntu/logohunter/data/houses/',target_name='data_train.txt')"
   ]
  },
  {
   "cell_type": "code",
   "execution_count": 129,
   "metadata": {},
   "outputs": [
    {
     "data": {
      "text/plain": [
       "True"
      ]
     },
     "execution_count": 129,
     "metadata": {},
     "output_type": "execute_result"
    }
   ],
   "source": [
    "label_names = ['background', 'facade', 'molding', 'cornice', 'pillar', 'window', 'door', 'sill', 'blind', 'balcony', 'shop', 'deco']\n",
    "labeldict = dict(zip(label_names,\\\n",
    "                     list(range(12))))\n",
    "convert_vott_csv_to_yolo(csv_from_xml(path,'/home/ubuntu/logohunter/data/windows'),labeldict)\n"
   ]
  },
  {
   "cell_type": "code",
   "execution_count": 121,
   "metadata": {},
   "outputs": [],
   "source": [
    "from PIL import Image\n",
    "import numpy as np\n",
    "from os import path, makedirs\n",
    "import numpy as np\n",
    "import re\n",
    "import os\n",
    "def get_files(directory,ending='.jpg'):\n",
    "    result=[]\n",
    "    for file in os.listdir(directory):\n",
    "        if file.endswith(ending):\n",
    "            result.append(file)\n",
    "    return result\n",
    "\n",
    "\n",
    "def csv_from_xml(directory,path_name=''):\n",
    "    #First get all images and xml files from path\n",
    "    image_paths=get_files(directory,'.jpg')\n",
    "    xml_paths=get_files(directory,'.xml')\n",
    "    result_df = pd.DataFrame()\n",
    "    if not len(image_paths)==len(xml_paths):\n",
    "        print('number of annotations doesnt match number of images')\n",
    "        return False\n",
    "    for image in image_paths:\n",
    "        target_filename = path_name + '/'+image if path_name else image\n",
    "        source_filename = directory + '/'+image\n",
    "        y_size,x_size,_ = np.array(Image.open(source_filename)).shape\n",
    "        source_xml = directory + '/'+image.replace('.jpg','.xml')\n",
    "        txt= open(source_xml,\"r\").read()\n",
    "        y_vals = re.findall(r'(?:x>\\n)(.*)(?:\\n</)',txt)\n",
    "        ymin_vals = y_vals[::2]\n",
    "        ymax_vals = y_vals[1::2]\n",
    "        x_vals = re.findall(r'(?:y>\\n)(.*)(?:\\n</)',txt)\n",
    "        xmin_vals = x_vals[::2]\n",
    "        xmax_vals = x_vals[1::2]\n",
    "        label_vals = re.findall(r'(?:label>\\n)(.*)(?:\\n</)',txt)\n",
    "        label_name_vals = re.findall(r'(?:labelname>\\n)(.*)(?:\\n</)',txt)\n",
    "        df = pd.DataFrame()\n",
    "        df['xmin']=xmin_vals\n",
    "        df['xmin']= df['xmin'].astype(float)*x_size\n",
    "        df['ymin']=ymin_vals\n",
    "        df['ymin']= df['ymin'].astype(float)*y_size\n",
    "        df['xmax']=xmax_vals\n",
    "        df['xmax']= df['xmax'].astype(float)*x_size\n",
    "        df['ymax']=ymax_vals\n",
    "        df['ymax']= df['ymax'].astype(float)*y_size\n",
    "        df['label']=label_name_vals\n",
    "        df['label_id']=label_vals\n",
    "        df['image']=target_filename\n",
    "        result_df=result_df.append(df)\n",
    "#     Bring image column first\n",
    "    cols = list(df.columns)\n",
    "    cols = [cols[-1]] + cols[:-1]\n",
    "    result_df = result_df[cols]\n",
    "    return result_df\n",
    "path = 'C:/Users/Anton/Documents/Insight/eq/EQ_new/Train_Window_Detector/base'\n",
    "csv_from_xml(path,'/home/ubuntu/logohunter/data/windows').to_csv('C:/Users/Anton/Documents/Insight/eq/EQ_new/Train_Window_Detector/base/annotations.csv')   "
   ]
  },
  {
   "cell_type": "code",
   "execution_count": 131,
   "metadata": {},
   "outputs": [
    {
     "data": {
      "text/plain": [
       "(445, 635, 3)"
      ]
     },
     "execution_count": 131,
     "metadata": {},
     "output_type": "execute_result"
    }
   ],
   "source": [
    "np.array(Image.open('test.jpg')).shape"
   ]
  },
  {
   "cell_type": "code",
   "execution_count": null,
   "metadata": {},
   "outputs": [],
   "source": []
  }
 ],
 "metadata": {
  "kernelspec": {
   "display_name": "Python 3",
   "language": "python",
   "name": "python3"
  },
  "language_info": {
   "codemirror_mode": {
    "name": "ipython",
    "version": 3
   },
   "file_extension": ".py",
   "mimetype": "text/x-python",
   "name": "python",
   "nbconvert_exporter": "python",
   "pygments_lexer": "ipython3",
   "version": "3.7.3"
  }
 },
 "nbformat": 4,
 "nbformat_minor": 2
}
