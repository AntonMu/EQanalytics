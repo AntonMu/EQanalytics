{
 "cells": [
  {
   "cell_type": "code",
   "execution_count": 45,
   "metadata": {},
   "outputs": [
    {
     "data": {
      "text/plain": [
       "True"
      ]
     },
     "execution_count": 45,
     "metadata": {},
     "output_type": "execute_result"
    }
   ],
   "source": [
    "from PIL import Image\n",
    "from os import path, makedirs\n",
    "import re \n",
    "import pandas as pd\n",
    "\n",
    "def crop_and_save(image_df,source_path = '',target_path = 'cropped', one =True):\n",
    "    \"\"\"Takes a vott_csv file with image names, labels and crop_boxes\n",
    "    and crops the images accordingly\n",
    "    \n",
    "    Input csv file format:\n",
    "    \n",
    "    image   xmin ymin xmax ymax label\n",
    "    im.jpg  0    10   100  500  house\n",
    "\n",
    "    \n",
    "    Parameters\n",
    "    ----------\n",
    "    df : pd.Dataframe \n",
    "        The input dataframe with file_names, bounding box info\n",
    "        and label\n",
    "    source_path : str\n",
    "        Path of source images\n",
    "    target_path : str, optional\n",
    "        Path to save cropped images\n",
    "    one : boolean, optional\n",
    "        if True, only the most central house will be returned\n",
    "\n",
    "    Returns\n",
    "    -------\n",
    "    True if completed succesfully\n",
    "    \"\"\"\n",
    "    target_path = os.path.join(os.getcwd(), target_path)\n",
    "    if not path.isdir(target_path):\n",
    "        makedirs(target_path)\n",
    "    source_path = os.path.join(os.getcwd(),source_path)\n",
    "    previous_name = ''\n",
    "    counter = 0\n",
    "    def find_rel_position(row):\n",
    "        current_name = row['image']\n",
    "        x_size,_ = (Image.open(os.path.join(source_path, current_name)).size)\n",
    "        x_centrality = abs((row['xmin']+ row['xmax'])/2/x_size-.5)\n",
    "        return x_centrality        \n",
    "    if one:\n",
    "        centrality = []\n",
    "        for index, row in image_df.iterrows():\n",
    "            centrality.append(find_rel_position(row))\n",
    "        image_df['x_centrality'] = pd.Series(centrality)\n",
    "        image_df.sort_values(['image','x_centrality'], inplace = True) \n",
    "        image_df.drop_duplicates(subset =\"image\", keep = 'first', inplace = True) \n",
    "        \n",
    "    for index, row in image_df.iterrows():\n",
    "        current_name = row['image']\n",
    "        if current_name == previous_name:\n",
    "            counter+=1\n",
    "        else:\n",
    "            counter =0\n",
    "        image_path = os.path.join(source_path, current_name)\n",
    "        imageObject  = Image.open(image_path)\n",
    "        cropped = imageObject.crop((row['xmin'],row['ymin'],row['xmax'],row['ymax']))\n",
    "        image_name_cropped = '_'.join([current_name[:-4],'cropped',row['label'],str(counter)])+'.jpg'\n",
    "\n",
    "        cropped.save(os.path.join(target_path,image_name_cropped))\n",
    "        previous_name = current_name\n",
    "    return True\n",
    "\n",
    "image_df = pd.read_csv(\"./vott-csv-export/Houses-export.csv\")\n",
    "crop_and_save(image_df,source_path = 'vott-csv-export',target_path = 'cropped_one')            "
   ]
  },
  {
   "cell_type": "code",
   "execution_count": null,
   "metadata": {},
   "outputs": [],
   "source": []
  }
 ],
 "metadata": {
  "kernelspec": {
   "display_name": "Python 3",
   "language": "python",
   "name": "python3"
  },
  "language_info": {
   "codemirror_mode": {
    "name": "ipython",
    "version": 3
   },
   "file_extension": ".py",
   "mimetype": "text/x-python",
   "name": "python",
   "nbconvert_exporter": "python",
   "pygments_lexer": "ipython3",
   "version": "3.7.3"
  }
 },
 "nbformat": 4,
 "nbformat_minor": 2
}
